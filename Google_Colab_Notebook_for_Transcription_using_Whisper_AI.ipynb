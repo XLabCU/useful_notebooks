{
  "nbformat": 4,
  "nbformat_minor": 0,
  "metadata": {
    "colab": {
      "provenance": [],
      "collapsed_sections": []
    },
    "kernelspec": {
      "name": "python3",
      "display_name": "Python 3"
    },
    "language_info": {
      "name": "python"
    },
    "accelerator": "GPU"
  },
  "cells": [
    {
      "cell_type": "markdown",
      "source": [
        "# Google Colab Notebook for Transcription using Whisper AI\n",
        "**Important:** Make sure to enable GPU from options bar  \n",
        "**[Runtime -> Change runtime type -> Hardware accelerator -> GPU]**\n",
        "\n",
        "Refer to [Github](https://github.com/openai/whisper) for more information about additional runtime parameters."
      ],
      "metadata": {
        "id": "R6ecTNmUxWua"
      }
    },
    {
      "cell_type": "code",
      "source": [
        "# Run this command and follow the steps in the output below.\n",
        "import subprocess\n",
        "from IPython.display import clear_output \n",
        "\n",
        "# Install the prerequisites for Whisper\n",
        "!pip install git+https://github.com/openai/whisper.git \n",
        "!sudo apt update && sudo apt install ffmpeg\n",
        "\n",
        "clear_output()\n",
        "\n",
        "# Mount Google Drive\n",
        "from google.colab import drive\n",
        "drive.mount(\"/content/drive/\", force_remount=True)\n",
        "\n",
        "# Create directories for Whisper\n",
        "!mkdir \"/content/drive/MyDrive/Whisper/\"\n",
        "!mkdir \"/content/drive/MyDrive/Whisper/output/\"\n",
        "!mkdir \"/content/drive/MyDrive/Whisper/input/\"\n",
        "\n",
        "check = \"no\"\n",
        "while(check != \"yes\"):\n",
        "  check = input('Upload audio file to \"Drive/Whisper/input\". When done, type \"yes\": ')\n",
        "\n",
        "name = input(\"Enter name of uploaded file and extension (example.mp3): \")\n",
        "model = input(\"Enter model quality (tiny, base, small, medium, large): \")\n",
        "\n",
        "inputFolder = \"/content/drive/MyDrive/Whisper/input/%s\" %name\n",
        "outputFolder = \"/content/drive/MyDrive/Whisper/output/\"\n",
        "command = 'whisper \"%s\" --output_dir \"%s\" --model %s ' %(inputFolder, outputFolder, model)\n",
        "\n",
        "languageCheck = input(\"Transcribing English? (yes/no): \")\n",
        "if languageCheck == \"no\":\n",
        "  language = input(\"What language?: \")\n",
        "  command += \"--language \" + language\n",
        "  translate = input(\"Translate to English? (yes/no): \")\n",
        "  if translate == \"yes\":\n",
        "    command += \" --task translate \"\n",
        "\n",
        "\n",
        "print(\"\\nHere is your command: \\n!%s\\n\" %command) \n",
        "print(\"Running...\")\n",
        "\n",
        "result = subprocess.call(command, shell=True) \n",
        "\n",
        "if result == 0:\n",
        "  print(\"SUCCESS: check output folder\")\n",
        "elif result == 1:\n",
        "  print(\"FAILURE: check file name\")\n",
        "elif result == 2:\n",
        "  print(\"FAILURE: check model name or language\")\n",
        "else:\n",
        "  print(\"FAILURE: fatal\")"
      ],
      "metadata": {
        "id": "Ww8rdjeY0_xH"
      },
      "execution_count": null,
      "outputs": []
    }
  ]
}